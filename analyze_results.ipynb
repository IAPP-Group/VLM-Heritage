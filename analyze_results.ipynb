{
 "cells": [
  {
   "cell_type": "code",
   "execution_count": 1,
   "id": "ca00d698-930c-4a1c-8d10-b13819840c46",
   "metadata": {
    "tags": []
   },
   "outputs": [],
   "source": [
    "%matplotlib inline\n",
    "import matplotlib.colors as mcolors\n",
    "import matplotlib.pyplot as plt\n",
    "import pandas as pd\n",
    "import seaborn as sns"
   ]
  },
  {
   "cell_type": "code",
   "execution_count": 2,
   "id": "35248625-21f4-4e7e-bd9c-b2f797c6b1cd",
   "metadata": {
    "tags": []
   },
   "outputs": [],
   "source": [
    "MODEL_SIZE = {\n",
    "    'Phi3': 4.2,\n",
    "    'cogvlm2': 19,\n",
    "    'deepseekvl': 7,\n",
    "    'internvl2': 8,\n",
    "    'llava1.6': 7,\n",
    "    'molmo': 7,\n",
    "    'pixtral2': 12,\n",
    "    'qwen2vl': 7,\n",
    "    'smolvlm': 2,\n",
    "}\n",
    "\n",
    "PRETTY_NAMES = {\n",
    "    'BING_GPT-4': 'Bing w/ GPT4',\n",
    "    'Phi3': 'Phi-3.5',\n",
    "    'cogvlm2': 'CogVLM2',\n",
    "    'deepseekvl': 'Deepseek-vl',\n",
    "    'internvl2': 'InternVL2',\n",
    "    'llava1.6': 'Llava-1.6',\n",
    "    'molmo': 'Molmo',\n",
    "    'pixtral2': 'Pixtral',\n",
    "    'qwen2vl': 'Qwen2-VL',\n",
    "    'smolvlm': 'SmolVLM',\n",
    "}"
   ]
  },
  {
   "cell_type": "code",
   "execution_count": 3,
   "id": "2298b863-524b-4348-909e-7a60747e6070",
   "metadata": {},
   "outputs": [],
   "source": [
    "sns.set_theme(style=\"darkgrid\")"
   ]
  },
  {
   "cell_type": "code",
   "execution_count": 4,
   "id": "0c40ac4c-ae37-4b9d-a204-773c00a3e5e0",
   "metadata": {},
   "outputs": [],
   "source": [
    "def plot_accuracies(data, key, csv_output_path, output_path):\n",
    "    perfs = data.groupby(by=['Algorithm', 'Dataset'], as_index=False).mean()\n",
    "    perfs.to_csv(csv_output_path)\n",
    "    \n",
    "    fig = plt.figure(figsize=(15, 5))\n",
    "    sns.barplot(x='Algorithm', y=key, hue='Dataset', errorbar=None, data=perfs)\n",
    "    plt.xticks(rotation=30)\n",
    "    plt.ylim(0.0, 1.0)\n",
    "    plt.legend(ncol=3)\n",
    "    plt.tight_layout()\n",
    "    plt.savefig(output_path)\n",
    "    plt.close(fig)\n",
    "    \n",
    "def plot_picture_accuracies(data, key, csv_output_path, output_path):\n",
    "    perfs = data.groupby(by=['Picture', key]).size().reset_index(name='Count')\n",
    "    perfs.to_csv(csv_output_path)\n",
    "    \n",
    "    fig = plt.figure(figsize=(7.5, 10))\n",
    "    sns.barplot(y='Picture', x='Count', hue=key, errorbar=None, data=perfs, orient='h')\n",
    "    plt.xticks(rotation=30)\n",
    "    plt.legend(ncol=1)\n",
    "    plt.tight_layout()\n",
    "    plt.savefig(output_path)\n",
    "    plt.close(fig)\n",
    "    \n",
    "def load_csv(csv_path):\n",
    "    data = pd.read_csv(csv_path, sep='|', index_col=0)\n",
    "    # data = data.drop(data[data['Algoritmo'] == 'BING_GPT-4_eng'].index)\n",
    "    data.drop(index=data[data['Percorso'] == './dataset/i17_wiki_portici.jpg'].index)\n",
    "    data['Soggetto_originale'] = data['Soggetto_originale'].apply(lambda x: x.replace('/Portici', ''))\n",
    "    data['Algorithm'] = data['Algoritmo'].map(lambda x: PRETTY_NAMES[x[:-4]])\n",
    "    data['Subject Accuracy'] = data['Soggetto_1'] == 'OK'\n",
    "    data['City Accuracy'] = data['Città_1'] == 'OK'\n",
    "    data['Subject Accuracy (2Q)'] = (data['Soggetto_1'] == 'OK') | ((data['Soggetto_1'] != 'OK') & (data['Soggetto_2'] == 'OK'))\n",
    "    data['Picture'] = data['Città'] + ' / ' + data['Soggetto_originale']\n",
    "    \n",
    "    return data"
   ]
  },
  {
   "cell_type": "code",
   "execution_count": 5,
   "id": "eaa15dcd-65f6-473e-a0a1-276b59066482",
   "metadata": {
    "tags": []
   },
   "outputs": [],
   "source": [
    "def lighten_color(color, amount=0.6):\n",
    "    # Convert hex color to RGB\n",
    "    rgb = mcolors.hex2color(color)\n",
    "    # Increase the brightness by adding the amount\n",
    "    rgb_lightened = [(1 - amount) * x + amount for x in rgb]\n",
    "    # Convert back to hex\n",
    "    return mcolors.rgb2hex(rgb_lightened)\n",
    "\n",
    "\n",
    "def plot_picture_accuracies_combo(eng_data, ita_data, key, csv_output_path, output_path):\n",
    "    perfs_eng = eng_data.groupby(by=['Picture', key]).size().reset_index(name='Count')\n",
    "    perfs_ita = ita_data.groupby(by=['Picture', key]).size().reset_index(name='Count')\n",
    "    perfs_eng[key] = perfs_eng[key].apply(lambda x: x + ' (EN)')\n",
    "    perfs_ita[key] = perfs_ita[key].apply(lambda x: x + ' (IT)')\n",
    "    perfs_combo = pd.concat([perfs_eng, perfs_ita], axis=0)\n",
    "    perfs_combo.to_csv(csv_output_path)\n",
    "\n",
    "    color_map = {\n",
    "        'OK (IT)': lighten_color('#2ca02c'),\n",
    "        'OK (EN)': '#2ca02c',\n",
    "        'NO (IT)': lighten_color('#ff7f0e'),\n",
    "        'NO (EN)': '#ff7f0e',\n",
    "        'ERR (IT)': lighten_color('#d62728'),\n",
    "        'ERR (EN)': '#d62728',\n",
    "    }\n",
    "    \n",
    "    fig = plt.figure(figsize=(7.5, 10))\n",
    "    sns.barplot(y='Picture', x='Count', hue=key, errorbar=None, data=perfs_combo, orient='h', hue_order=['OK (IT)', 'OK (EN)', 'NO (IT)', 'NO (EN)', 'ERR (IT)', 'ERR (EN)'], palette=color_map)\n",
    "    plt.xticks(rotation=30)\n",
    "    plt.legend(ncol=1)\n",
    "    plt.tight_layout()\n",
    "    plt.savefig(output_path)\n",
    "    plt.close(fig)"
   ]
  },
  {
   "cell_type": "code",
   "execution_count": 6,
   "id": "44ea2ead-c4c4-42ec-ae84-3990ebd58c01",
   "metadata": {},
   "outputs": [],
   "source": [
    "def build_plots(data, suffix):\n",
    "    plot_accuracies(data, 'Subject Accuracy', f'tables/subject1_{suffix}.csv', f'figures/subject1_{suffix}.pdf')\n",
    "    plot_accuracies(data, 'City Accuracy', f'tables/city1_{suffix}.csv', f'figures/city1_{suffix}.pdf')\n",
    "    plot_accuracies(data, 'Subject Accuracy (2Q)', f'tables/subject2_{suffix}.csv', f'figures/subject2_{suffix}.pdf')\n",
    "    \n",
    "    plot_picture_accuracies(data, 'Soggetto_1', f'tables/picture_subject1_{suffix}.csv', f'figures/picture_subject1_{suffix}.pdf')\n",
    "    plot_picture_accuracies(data, 'Città_1', f'tables/picture_city1_{suffix}.csv', f'figures/picture_city1_{suffix}.pdf')"
   ]
  },
  {
   "cell_type": "code",
   "execution_count": 7,
   "id": "51cad535-7c6e-4fa6-983b-399f06094c9d",
   "metadata": {
    "tags": []
   },
   "outputs": [],
   "source": [
    "def build_plots_combo(eng_data, ita_data):\n",
    "    plot_picture_accuracies_combo(eng_data, ita_data, 'Soggetto_1', 'tables/picture_subject1_combo.csv', 'figures/picture_subject1_combo.pdf')\n",
    "    plot_picture_accuracies_combo(eng_data, ita_data, 'Città_1', 'tables/picture_city1_combo.csv', 'figures/picture_city1_combo.pdf')"
   ]
  },
  {
   "cell_type": "code",
   "execution_count": 8,
   "id": "f4a95d9c-64e2-44cb-94d0-5534d551e7c7",
   "metadata": {
    "tags": []
   },
   "outputs": [],
   "source": [
    "def diff_table(data_before, data_after, key_before, key_after, csv_out_path, fig_out_path):\n",
    "    counts_before = data_before.groupby('Algorithm')[key_before].value_counts()\n",
    "    counts_after = data_after.groupby('Algorithm')[key_after].value_counts()\n",
    "    \n",
    "    df = pd.DataFrame(columns=['OK', 'NO', 'ERR'])\n",
    "    \n",
    "    for k in PRETTY_NAMES.values():\n",
    "        values = []\n",
    "        int_values = []\n",
    "        for subset in ['OK', 'NO', 'ERR']:\n",
    "            values.append(str(counts_after[k].get(subset, 0) - counts_before[k].get(subset, 0)))\n",
    "            int_values.append(counts_after[k].get(subset, 0) - counts_before[k].get(subset, 0))\n",
    "        df.loc[k] = int_values\n",
    "        \n",
    "    df.to_csv(csv_out_path)\n",
    "            \n",
    "    fig, ax = plt.subplots(figsize=(10, 6))\n",
    "\n",
    "    COLUMNS = ['OK', 'NO', 'ERR']\n",
    "\n",
    "    df[COLUMNS].plot(kind='bar', ax=ax, color=['#2ca02c', '#ff7f0e', '#d62728'], width=0.3)\n",
    "\n",
    "    ax.set_xlabel(\"Models\")\n",
    "    ax.set_ylabel(\"Difference\")\n",
    "    ax.legend()\n",
    "    plt.xticks(rotation=45, ha='right')\n",
    "    plt.grid(axis='y', linestyle='--', alpha=0.7)\n",
    "    plt.tight_layout()\n",
    "\n",
    "    plt.savefig(fig_out_path)\n",
    "    plt.close(fig)"
   ]
  },
  {
   "cell_type": "code",
   "execution_count": 9,
   "id": "04bac0aa-f123-4d82-afb2-4042eaa7e766",
   "metadata": {
    "tags": []
   },
   "outputs": [],
   "source": [
    "eng_data = load_csv('./all_outputs_eng.csv')\n",
    "ita_data = load_csv('./all_outputs_ita.csv')"
   ]
  },
  {
   "cell_type": "code",
   "execution_count": 10,
   "id": "106fe552-6eca-45da-86d1-9f800fa904ed",
   "metadata": {},
   "outputs": [],
   "source": [
    "build_plots(eng_data, 'eng')\n",
    "build_plots(ita_data, 'ita')\n",
    "build_plots_combo(eng_data, ita_data)"
   ]
  },
  {
   "cell_type": "code",
   "execution_count": 11,
   "id": "41995521-0856-40fe-9ced-64b821668e40",
   "metadata": {
    "tags": []
   },
   "outputs": [],
   "source": [
    "diff_table(ita_data, eng_data, 'Soggetto_1', 'Soggetto_1', 'tables/ita_eng_diff.csv', 'figures/ita_eng_diff.pdf')"
   ]
  },
  {
   "cell_type": "code",
   "execution_count": 12,
   "id": "1759917a-7742-4d6e-ac14-7df74407a401",
   "metadata": {
    "tags": []
   },
   "outputs": [],
   "source": [
    "eng_subj_df = diff_table(eng_data[eng_data['Soggetto_1'] != 'OK'], eng_data[eng_data['Soggetto_1'] != 'OK'], 'Soggetto_1', 'Soggetto_2', 'tables/eng_subject_diff.csv', 'figures/eng_subject_diff.pdf')\n",
    "ita_subj_df = diff_table(ita_data[ita_data['Soggetto_1'] != 'OK'], ita_data[ita_data['Soggetto_1'] != 'OK'], 'Soggetto_1', 'Soggetto_2', 'tables/ita_subject_diff.csv', 'figures/ita_subject_diff.pdf')"
   ]
  },
  {
   "cell_type": "code",
   "execution_count": null,
   "id": "c58725c5-b193-4441-ace2-7b939b9ed280",
   "metadata": {},
   "outputs": [],
   "source": []
  }
 ],
 "metadata": {
  "kernelspec": {
   "display_name": "Python 3 (ipykernel)",
   "language": "python",
   "name": "python3"
  },
  "language_info": {
   "codemirror_mode": {
    "name": "ipython",
    "version": 3
   },
   "file_extension": ".py",
   "mimetype": "text/x-python",
   "name": "python",
   "nbconvert_exporter": "python",
   "pygments_lexer": "ipython3",
   "version": "3.7.4"
  }
 },
 "nbformat": 4,
 "nbformat_minor": 5
}

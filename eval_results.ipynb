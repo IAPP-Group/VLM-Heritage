{
 "cells": [
  {
   "cell_type": "code",
   "execution_count": 1,
   "id": "511b3202-a21d-4925-a041-d95c5c7e7d43",
   "metadata": {},
   "outputs": [],
   "source": [
    "import pandas as pd\n",
    "import os\n",
    "import matplotlib.pyplot as plt"
   ]
  },
  {
   "cell_type": "code",
   "execution_count": 2,
   "id": "f3e7d591-372f-4c44-abbb-a73011b0b479",
   "metadata": {
    "scrolled": true
   },
   "outputs": [],
   "source": [
    "lang = [\"ita\", \"eng\"]\n",
    "for i_lang in lang:\n",
    "    dataframes = []\n",
    "    directory = \"./dataset-eval/\"\n",
    "    for file in os.listdir(directory):\n",
    "        if file.endswith(f\"{i_lang}.tsv\"):\n",
    "            file_path = os.path.join(directory, file)\n",
    "            df = pd.read_csv(file_path, sep='\\t')\n",
    "            dataframes.append(df)\n",
    "    \n",
    "    # Unisci tutti i DataFrame\n",
    "    combined_df = pd.concat(dataframes, ignore_index=True)\n",
    "    # Ordina\n",
    "    sorted_df = combined_df.sort_values(by='Percorso', ascending=True)\n",
    "    # Salva\n",
    "    sorted_df.to_csv(f\"all_outputs_{i_lang}.csv\", sep=\"|\")"
   ]
  },
  {
   "cell_type": "code",
   "execution_count": 3,
   "id": "f1f35b61-7953-459f-90d0-980679d25672",
   "metadata": {},
   "outputs": [
    {
     "data": {
      "text/plain": [
       "Index(['ID', 'Algoritmo', 'Percorso', 'Dataset', 'Città', 'Soggetto_originale',\n",
       "       'Risposta 1', 'Valutazione 1 risposta', 'Città_1', 'Soggetto_1',\n",
       "       'Descrizione_1', 'Risposta 2', 'Valutazione 2 risposta', 'Soggetto_2',\n",
       "       'Descrizione_2', 'Note'],\n",
       "      dtype='object')"
      ]
     },
     "execution_count": 3,
     "metadata": {},
     "output_type": "execute_result"
    }
   ],
   "source": [
    "sorted_df.columns"
   ]
  },
  {
   "cell_type": "code",
   "execution_count": 4,
   "id": "635858b5-e166-479a-9263-cea44233e46a",
   "metadata": {},
   "outputs": [],
   "source": [
    "cols = ['Città_1', 'Soggetto_1', 'Descrizione_1', 'Soggetto_2', 'Descrizione_2']"
   ]
  },
  {
   "cell_type": "code",
   "execution_count": 5,
   "id": "fd2e2496-912a-4373-8f28-f3ea30f66ced",
   "metadata": {},
   "outputs": [
    {
     "name": "stdout",
     "output_type": "stream",
     "text": [
      "ita\n",
      "Città_1 ['NO' 'OK' 'ERR' 'PAR']\n",
      "Soggetto_1 ['NO' 'OK' 'ERR']\n",
      "Descrizione_1 ['NO' 'OK' 'ERR']\n",
      "Soggetto_2 ['ERR' 'NO' 'OK' nan]\n",
      "Descrizione_2 ['ERR' 'OK' 'NO' nan]\n",
      "\n",
      " Empty DataFrame\n",
      "Columns: [Unnamed: 0, ID, Algoritmo, Percorso, Dataset, Città, Soggetto_originale, Risposta 1, Valutazione 1 risposta, Città_1, Soggetto_1, Descrizione_1, Risposta 2, Valutazione 2 risposta, Soggetto_2, Descrizione_2, Note]\n",
      "Index: []\n",
      "Empty DataFrame\n",
      "Columns: [Unnamed: 0, ID, Algoritmo, Percorso, Dataset, Città, Soggetto_originale, Risposta 1, Valutazione 1 risposta, Città_1, Soggetto_1, Descrizione_1, Risposta 2, Valutazione 2 risposta, Soggetto_2, Descrizione_2, Note]\n",
      "Index: []\n",
      "Empty DataFrame\n",
      "Columns: [Unnamed: 0, ID, Algoritmo, Percorso, Dataset, Città, Soggetto_originale, Risposta 1, Valutazione 1 risposta, Città_1, Soggetto_1, Descrizione_1, Risposta 2, Valutazione 2 risposta, Soggetto_2, Descrizione_2, Note]\n",
      "Index: []\n",
      "\n",
      "\n",
      "\n",
      "eng\n",
      "Città_1 ['NO' 'ERR' 'OK' 'PAR']\n",
      "Soggetto_1 ['NO' 'OK' 'ERR']\n",
      "Descrizione_1 ['OK' 'ERR' 'NO']\n",
      "Soggetto_2 ['NO' 'ERR' 'OK' nan]\n",
      "Descrizione_2 ['OK' 'ERR' 'NO' nan]\n",
      "\n",
      " Empty DataFrame\n",
      "Columns: [Unnamed: 0, ID, Algoritmo, Percorso, Dataset, Città, Soggetto_originale, Risposta 1, Valutazione 1 risposta, Città_1, Soggetto_1, Descrizione_1, Risposta 2, Valutazione 2 risposta, Soggetto_2, Descrizione_2, Note]\n",
      "Index: []\n",
      "Empty DataFrame\n",
      "Columns: [Unnamed: 0, ID, Algoritmo, Percorso, Dataset, Città, Soggetto_originale, Risposta 1, Valutazione 1 risposta, Città_1, Soggetto_1, Descrizione_1, Risposta 2, Valutazione 2 risposta, Soggetto_2, Descrizione_2, Note]\n",
      "Index: []\n",
      "Empty DataFrame\n",
      "Columns: [Unnamed: 0, ID, Algoritmo, Percorso, Dataset, Città, Soggetto_originale, Risposta 1, Valutazione 1 risposta, Città_1, Soggetto_1, Descrizione_1, Risposta 2, Valutazione 2 risposta, Soggetto_2, Descrizione_2, Note]\n",
      "Index: []\n",
      "\n",
      "\n",
      "\n"
     ]
    }
   ],
   "source": [
    "lang = [\"ita\", \"eng\"]\n",
    "for i_lang in lang:\n",
    "    print(i_lang)\n",
    "    df = pd.read_csv(f\"all_outputs_{i_lang}.csv\", sep=\"|\")\n",
    "    for i in cols:\n",
    "        print(i, df[i].unique())\n",
    "    print(\"\\n\", df[df[\"Città_1\"].isna()])\n",
    "    print(df[df[\"Soggetto_1\"].isna()])\n",
    "    print(df[df[\"Descrizione_1\"].isna()])\n",
    "    print(\"\\n\\n\")"
   ]
  },
  {
   "cell_type": "markdown",
   "id": "d2a37674-8e11-471c-99c3-f75605abc4a9",
   "metadata": {},
   "source": [
    "# SHOW images"
   ]
  },
  {
   "cell_type": "code",
   "execution_count": 2,
   "id": "627d6923-6f01-43cc-a04c-cf4d89d5a6ad",
   "metadata": {},
   "outputs": [],
   "source": [
    "subjects = pd.read_csv(\"dataset.csv\", sep=';')"
   ]
  },
  {
   "cell_type": "code",
   "execution_count": 3,
   "id": "6fc1d2f6-841c-4733-9f1a-d1c5c2b29633",
   "metadata": {},
   "outputs": [],
   "source": [
    "from matplotlib.image import imread\n",
    "from PIL import Image\n",
    "import numpy as np"
   ]
  },
  {
   "cell_type": "code",
   "execution_count": 14,
   "id": "b7a97a20-3e6b-42d7-ae0d-059ba239cc2a",
   "metadata": {},
   "outputs": [
    {
     "name": "stdout",
     "output_type": "stream",
     "text": [
      "flore 10 10\n",
      "wiki 20 20\n",
      "other 10 10\n"
     ]
    }
   ],
   "source": [
    "def carica_immagini_da_cartella(cartella, dataset, subjects, dimensione_thumbnail=(200, 200)):\n",
    "    immagini = []\n",
    "    nomi_file = []\n",
    "    for file in sorted(os.listdir(cartella)):\n",
    "        if file.lower().endswith(('png', 'jpg', 'jpeg')) and dataset in file and \"portici\" not in file:\n",
    "            percorso_file = os.path.join(cartella, file)\n",
    "            immagine = Image.open(percorso_file).resize(dimensione_thumbnail)\n",
    "            immagini.append(np.array(immagine))\n",
    "\n",
    "            if \"i17\" in file:\n",
    "                file_subject = subjects[subjects.id == 17].subject.item()\n",
    "                file_subject = \"Torri\"\n",
    "            elif \"i12\" in file:\n",
    "                file_subject = subjects[subjects.id == 12].subject.item() + \" - Milano\"\n",
    "            else:\n",
    "                file_subject = subjects[subjects.id == int(file.split(\"_\")[0][1:])].subject.item()\n",
    "            # print(file, file_subject)\n",
    "            nomi_file.append(file_subject)\n",
    "                \n",
    "    # print(dataset, len(immagini), len(nomi_file))\n",
    "    return immagini, nomi_file\n",
    "\n",
    "# Datasets di esempio\n",
    "datasets = {\n",
    "    \"FloreView\": carica_immagini_da_cartella(\"./dataset/\", \"flore\", subjects),\n",
    "    \"Wikimedia\": carica_immagini_da_cartella(\"./dataset/\", \"wiki\", subjects),\n",
    "    \"Other\": carica_immagini_da_cartella(\"./dataset/\", \"other\", subjects),\n",
    "}"
   ]
  },
  {
   "cell_type": "code",
   "execution_count": 30,
   "id": "e9987aed-ce70-46eb-9bde-79a5d47a41bf",
   "metadata": {},
   "outputs": [],
   "source": [
    "dati_img = []\n",
    "for key in datasets.keys():\n",
    "    dati_img.extend(datasets[key][0])\n",
    "    \n",
    "dati_label = []\n",
    "for key in datasets.keys():\n",
    "    dati_label.extend(datasets[key][1])"
   ]
  },
  {
   "cell_type": "code",
   "execution_count": 32,
   "id": "b417521e-4571-4cb5-bb27-972a02356c03",
   "metadata": {},
   "outputs": [],
   "source": [
    "# Define the number of rows and columns per image\n",
    "rows = 8\n",
    "cols = 5\n",
    "\n",
    "# Iterate over the rows and save each row as a separate image\n",
    "for row in range(rows):\n",
    "    fig, axes = plt.subplots(nrows=1, ncols=cols, figsize=(15, 4))  # Adjust height for a single row\n",
    "    \n",
    "    # Load and display the images for the current row\n",
    "    for col in range(cols):\n",
    "        idx = row * cols + col\n",
    "        if idx < len(dati_img):  # Ensure we don't exceed the number of images\n",
    "            axes[col].imshow(dati_img[idx], aspect=\"equal\")\n",
    "            axes[col].set_title(dati_label[idx], fontsize=12, y=-0.1)\n",
    "            axes[col].axis('off')  # Hide the axes\n",
    "        else:\n",
    "            axes[col].axis('off')  # Hide empty axes if images are fewer\n",
    "            \n",
    "    # Adjust layout and save the figure for the current row\n",
    "    plt.tight_layout()\n",
    "    plt.savefig(f'row_{row + 1}.pdf', dpi=300)  # Save with a unique filename\n",
    "    plt.close(fig)  # Close the figure to free memory\n"
   ]
  }
 ],
 "metadata": {
  "kernelspec": {
   "display_name": "base",
   "language": "python",
   "name": "base"
  },
  "language_info": {
   "codemirror_mode": {
    "name": "ipython",
    "version": 3
   },
   "file_extension": ".py",
   "mimetype": "text/x-python",
   "name": "python",
   "nbconvert_exporter": "python",
   "pygments_lexer": "ipython3",
   "version": "3.8.19"
  }
 },
 "nbformat": 4,
 "nbformat_minor": 5
}
